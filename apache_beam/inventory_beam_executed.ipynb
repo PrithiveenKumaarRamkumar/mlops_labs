{
  "cells": [
    {
      "cell_type": "markdown",
      "metadata": {
        "id": "view-in-github",
        "colab_type": "text"
      },
      "source": [
        "<a href=\"https://colab.research.google.com/github/PrithiveenKumaarRamkumar/mlops_labs/blob/main/apache_beam/inventory_beam_executed.ipynb\" target=\"_parent\"><img src=\"https://colab.research.google.com/assets/colab-badge.svg\" alt=\"Open In Colab\"/></a>"
      ]
    },
    {
      "cell_type": "markdown",
      "metadata": {
        "id": "UFK8M-oBLiMf"
      },
      "source": [
        "# 🏠 Home Inventory Management System with Apache Beam\n",
        "\n",
        "A powerful inventory management system built using Apache Beam for scalable data processing.\n",
        "\n",
        "## Features:\n",
        "- Chat-like command interface\n",
        "- Add, remove, update, and query inventory items\n",
        "- Category-based organization\n",
        "- Persistent storage with JSON\n",
        "- Apache Beam pipeline processing"
      ]
    },
    {
      "cell_type": "markdown",
      "metadata": {
        "id": "3ZN_1iSeLiMg"
      },
      "source": [
        "## Step 1: Install Apache Beam"
      ]
    },
    {
      "cell_type": "code",
      "execution_count": 1,
      "metadata": {
        "colab": {
          "base_uri": "https://localhost:8080/"
        },
        "id": "m4Gh7h80LiMh",
        "outputId": "571427d7-8bef-42cb-8618-130c7bc35d6e"
      },
      "outputs": [
        {
          "output_type": "stream",
          "name": "stdout",
          "text": [
            "\u001b[2K     \u001b[90m━━━━━━━━━━━━━━━━━━━━━━━━━━━━━━━━━━━━━━━━\u001b[0m \u001b[32m89.7/89.7 kB\u001b[0m \u001b[31m5.6 MB/s\u001b[0m eta \u001b[36m0:00:00\u001b[0m\n",
            "\u001b[?25h  Preparing metadata (setup.py) ... \u001b[?25l\u001b[?25hdone\n",
            "\u001b[2K     \u001b[90m━━━━━━━━━━━━━━━━━━━━━━━━━━━━━━━━━━━━━━\u001b[0m \u001b[32m152.0/152.0 kB\u001b[0m \u001b[31m13.8 MB/s\u001b[0m eta \u001b[36m0:00:00\u001b[0m\n",
            "\u001b[?25h  Preparing metadata (setup.py) ... \u001b[?25l\u001b[?25hdone\n",
            "\u001b[2K     \u001b[90m━━━━━━━━━━━━━━━━━━━━━━━━━━━━━━━━━━━━━━━━\u001b[0m \u001b[32m43.5/43.5 kB\u001b[0m \u001b[31m3.3 MB/s\u001b[0m eta \u001b[36m0:00:00\u001b[0m\n",
            "\u001b[?25h  Preparing metadata (setup.py) ... \u001b[?25l\u001b[?25hdone\n",
            "  Preparing metadata (setup.py) ... \u001b[?25l\u001b[?25hdone\n",
            "\u001b[2K   \u001b[90m━━━━━━━━━━━━━━━━━━━━━━━━━━━━━━━━━━━━━━━━\u001b[0m \u001b[32m17.1/17.1 MB\u001b[0m \u001b[31m97.4 MB/s\u001b[0m eta \u001b[36m0:00:00\u001b[0m\n",
            "\u001b[2K   \u001b[90m━━━━━━━━━━━━━━━━━━━━━━━━━━━━━━━━━━━━━━━━\u001b[0m \u001b[32m1.2/1.2 MB\u001b[0m \u001b[31m68.8 MB/s\u001b[0m eta \u001b[36m0:00:00\u001b[0m\n",
            "\u001b[2K   \u001b[90m━━━━━━━━━━━━━━━━━━━━━━━━━━━━━━━━━━━━━━━━\u001b[0m \u001b[32m3.5/3.5 MB\u001b[0m \u001b[31m97.5 MB/s\u001b[0m eta \u001b[36m0:00:00\u001b[0m\n",
            "\u001b[2K   \u001b[90m━━━━━━━━━━━━━━━━━━━━━━━━━━━━━━━━━━━━━━━━\u001b[0m \u001b[32m5.6/5.6 MB\u001b[0m \u001b[31m106.7 MB/s\u001b[0m eta \u001b[36m0:00:00\u001b[0m\n",
            "\u001b[2K   \u001b[90m━━━━━━━━━━━━━━━━━━━━━━━━━━━━━━━━━━━━━━━━\u001b[0m \u001b[32m96.9/96.9 kB\u001b[0m \u001b[31m8.2 MB/s\u001b[0m eta \u001b[36m0:00:00\u001b[0m\n",
            "\u001b[2K   \u001b[90m━━━━━━━━━━━━━━━━━━━━━━━━━━━━━━━━━━━━━━━━\u001b[0m \u001b[32m46.3/46.3 kB\u001b[0m \u001b[31m2.9 MB/s\u001b[0m eta \u001b[36m0:00:00\u001b[0m\n",
            "\u001b[2K   \u001b[90m━━━━━━━━━━━━━━━━━━━━━━━━━━━━━━━━━━━━━━━━\u001b[0m \u001b[32m1.7/1.7 MB\u001b[0m \u001b[31m46.9 MB/s\u001b[0m eta \u001b[36m0:00:00\u001b[0m\n",
            "\u001b[2K   \u001b[90m━━━━━━━━━━━━━━━━━━━━━━━━━━━━━━━━━━━━━━━━\u001b[0m \u001b[32m272.8/272.8 kB\u001b[0m \u001b[31m16.9 MB/s\u001b[0m eta \u001b[36m0:00:00\u001b[0m\n",
            "\u001b[2K   \u001b[90m━━━━━━━━━━━━━━━━━━━━━━━━━━━━━━━━━━━━━━━━\u001b[0m \u001b[32m331.1/331.1 kB\u001b[0m \u001b[31m19.1 MB/s\u001b[0m eta \u001b[36m0:00:00\u001b[0m\n",
            "\u001b[?25h  Building wheel for crcmod (setup.py) ... \u001b[?25l\u001b[?25hdone\n",
            "  Building wheel for dill (setup.py) ... \u001b[?25l\u001b[?25hdone\n",
            "  Building wheel for hdfs (setup.py) ... \u001b[?25l\u001b[?25hdone\n",
            "  Building wheel for docopt (setup.py) ... \u001b[?25l\u001b[?25hdone\n",
            "\u001b[31mERROR: pip's dependency resolver does not currently take into account all the packages that are installed. This behaviour is the source of the following dependency conflicts.\n",
            "multiprocess 0.70.16 requires dill>=0.3.8, but you have dill 0.3.1.1 which is incompatible.\n",
            "grpcio-status 1.71.2 requires grpcio>=1.71.2, but you have grpcio 1.65.5 which is incompatible.\u001b[0m\u001b[31m\n",
            "\u001b[0m✓ Apache Beam installed successfully!\n"
          ]
        }
      ],
      "source": [
        "!pip install apache-beam --quiet\n",
        "print(\"✓ Apache Beam installed successfully!\")"
      ]
    },
    {
      "cell_type": "markdown",
      "metadata": {
        "id": "JfcrhUaxLiMi"
      },
      "source": [
        "## Step 2: Import Required Libraries"
      ]
    },
    {
      "cell_type": "code",
      "execution_count": 2,
      "metadata": {
        "colab": {
          "base_uri": "https://localhost:8080/"
        },
        "id": "n4plAds_LiMi",
        "outputId": "f864a8f5-b793-4932-b604-49b06fd8acf0"
      },
      "outputs": [
        {
          "output_type": "stream",
          "name": "stdout",
          "text": [
            "✓ All libraries imported successfully!\n"
          ]
        }
      ],
      "source": [
        "import apache_beam as beam\n",
        "from apache_beam.options.pipeline_options import PipelineOptions\n",
        "import json\n",
        "from datetime import datetime\n",
        "from typing import Dict, List, Tuple\n",
        "import os\n",
        "\n",
        "print(\"✓ All libraries imported successfully!\")"
      ]
    },
    {
      "cell_type": "markdown",
      "metadata": {
        "id": "LQVtxt2ZLiMi"
      },
      "source": [
        "## Step 3: Define Inventory Item Class"
      ]
    },
    {
      "cell_type": "code",
      "execution_count": 3,
      "metadata": {
        "colab": {
          "base_uri": "https://localhost:8080/"
        },
        "id": "bkrgLpEVLiMi",
        "outputId": "4f434b2b-1097-456e-f23c-e26fbf051f3f"
      },
      "outputs": [
        {
          "output_type": "stream",
          "name": "stdout",
          "text": [
            "✓ InventoryItem class defined!\n"
          ]
        }
      ],
      "source": [
        "class InventoryItem:\n",
        "    \"\"\"Represents an inventory item\"\"\"\n",
        "    def __init__(self, name: str, quantity: int, unit: str, category: str, last_updated: str = None):\n",
        "        self.name = name.lower()\n",
        "        self.quantity = quantity\n",
        "        self.unit = unit\n",
        "        self.category = category\n",
        "        self.last_updated = last_updated or datetime.now().isoformat()\n",
        "\n",
        "    def to_dict(self):\n",
        "        return {\n",
        "            'name': self.name,\n",
        "            'quantity': self.quantity,\n",
        "            'unit': self.unit,\n",
        "            'category': self.category,\n",
        "            'last_updated': self.last_updated\n",
        "        }\n",
        "\n",
        "    @staticmethod\n",
        "    def from_dict(data):\n",
        "        return InventoryItem(\n",
        "            data['name'],\n",
        "            data['quantity'],\n",
        "            data['unit'],\n",
        "            data['category'],\n",
        "            data.get('last_updated')\n",
        "        )\n",
        "\n",
        "    def __repr__(self):\n",
        "        return f\"{self.name}: {self.quantity} {self.unit} ({self.category})\"\n",
        "\n",
        "print(\"✓ InventoryItem class defined!\")"
      ]
    },
    {
      "cell_type": "markdown",
      "metadata": {
        "id": "s38pPBlaLiMi"
      },
      "source": [
        "## Step 4: Define Apache Beam Transforms"
      ]
    },
    {
      "cell_type": "code",
      "execution_count": 4,
      "metadata": {
        "colab": {
          "base_uri": "https://localhost:8080/"
        },
        "id": "HMaY4-WeLiMi",
        "outputId": "ac761564-2953-458b-8cb7-3b64fdada6de"
      },
      "outputs": [
        {
          "output_type": "stream",
          "name": "stdout",
          "text": [
            "✓ Apache Beam transforms defined!\n"
          ]
        }
      ],
      "source": [
        "class ParseCommand(beam.DoFn):\n",
        "    \"\"\"Parse chat commands into structured operations\"\"\"\n",
        "    def process(self, command: str):\n",
        "        command = command.strip().lower()\n",
        "        parts = command.split()\n",
        "\n",
        "        if len(parts) < 2:\n",
        "            yield beam.pvalue.TaggedOutput('errors', f\"Invalid command: {command}\")\n",
        "            return\n",
        "\n",
        "        action = parts[0]\n",
        "\n",
        "        if action == 'add':\n",
        "            if len(parts) >= 5:\n",
        "                item = parts[1]\n",
        "                try:\n",
        "                    quantity = int(parts[2])\n",
        "                    unit = parts[3]\n",
        "                    category = parts[4]\n",
        "                    yield {\n",
        "                        'action': 'add',\n",
        "                        'item': InventoryItem(item, quantity, unit, category).to_dict()\n",
        "                    }\n",
        "                except ValueError:\n",
        "                    yield beam.pvalue.TaggedOutput('errors', f\"Invalid quantity: {parts[2]}\")\n",
        "            else:\n",
        "                yield beam.pvalue.TaggedOutput('errors', \"Format: add <item> <quantity> <unit> <category>\")\n",
        "\n",
        "        elif action == 'remove':\n",
        "            if len(parts) >= 3:\n",
        "                item = parts[1]\n",
        "                try:\n",
        "                    quantity = int(parts[2])\n",
        "                    yield {\n",
        "                        'action': 'remove',\n",
        "                        'item': item,\n",
        "                        'quantity': quantity\n",
        "                    }\n",
        "                except ValueError:\n",
        "                    yield beam.pvalue.TaggedOutput('errors', f\"Invalid quantity: {parts[2]}\")\n",
        "            else:\n",
        "                yield beam.pvalue.TaggedOutput('errors', \"Format: remove <item> <quantity>\")\n",
        "\n",
        "        elif action == 'update':\n",
        "            if len(parts) >= 3:\n",
        "                item = parts[1]\n",
        "                try:\n",
        "                    quantity = int(parts[2])\n",
        "                    yield {\n",
        "                        'action': 'update',\n",
        "                        'item': item,\n",
        "                        'quantity': quantity\n",
        "                    }\n",
        "                except ValueError:\n",
        "                    yield beam.pvalue.TaggedOutput('errors', f\"Invalid quantity: {parts[2]}\")\n",
        "            else:\n",
        "                yield beam.pvalue.TaggedOutput('errors', \"Format: update <item> <quantity>\")\n",
        "\n",
        "        elif action == 'query':\n",
        "            if len(parts) >= 2:\n",
        "                item = parts[1] if parts[1] != 'all' else 'all'\n",
        "                yield {\n",
        "                    'action': 'query',\n",
        "                    'item': item\n",
        "                }\n",
        "            else:\n",
        "                yield beam.pvalue.TaggedOutput('errors', \"Format: query <item> or query all\")\n",
        "\n",
        "        else:\n",
        "            yield beam.pvalue.TaggedOutput('errors', f\"Unknown action: {action}\")\n",
        "\n",
        "\n",
        "class CombineInventory(beam.CombineFn):\n",
        "    \"\"\"Combine operations to maintain inventory state\"\"\"\n",
        "\n",
        "    def create_accumulator(self):\n",
        "        return {'inventory': {}, 'messages': []}\n",
        "\n",
        "    def add_input(self, accumulator, operation):\n",
        "        inventory = accumulator['inventory']\n",
        "        messages = accumulator['messages']\n",
        "        action = operation['action']\n",
        "\n",
        "        if action == 'add':\n",
        "            item_dict = operation['item']\n",
        "            item_name = item_dict['name']\n",
        "\n",
        "            if item_name in inventory:\n",
        "                inventory[item_name]['quantity'] += item_dict['quantity']\n",
        "                inventory[item_name]['last_updated'] = datetime.now().isoformat()\n",
        "                messages.append(f\"✓ Updated {item_name}: {inventory[item_name]['quantity']} {inventory[item_name]['unit']}\")\n",
        "            else:\n",
        "                inventory[item_name] = item_dict\n",
        "                messages.append(f\"✓ Added {item_name}: {item_dict['quantity']} {item_dict['unit']} ({item_dict['category']})\")\n",
        "\n",
        "        elif action == 'remove':\n",
        "            item_name = operation['item']\n",
        "            quantity = operation['quantity']\n",
        "\n",
        "            if item_name in inventory:\n",
        "                inventory[item_name]['quantity'] -= quantity\n",
        "                inventory[item_name]['last_updated'] = datetime.now().isoformat()\n",
        "\n",
        "                if inventory[item_name]['quantity'] <= 0:\n",
        "                    del inventory[item_name]\n",
        "                    messages.append(f\"✓ Removed {item_name} from inventory (quantity reached 0)\")\n",
        "                else:\n",
        "                    messages.append(f\"✓ Removed {quantity} from {item_name}. Remaining: {inventory[item_name]['quantity']} {inventory[item_name]['unit']}\")\n",
        "            else:\n",
        "                messages.append(f\"⚠ Item not found: {item_name}\")\n",
        "\n",
        "        elif action == 'update':\n",
        "            item_name = operation['item']\n",
        "            quantity = operation['quantity']\n",
        "\n",
        "            if item_name in inventory:\n",
        "                old_qty = inventory[item_name]['quantity']\n",
        "                inventory[item_name]['quantity'] = quantity\n",
        "                inventory[item_name]['last_updated'] = datetime.now().isoformat()\n",
        "                messages.append(f\"✓ Updated {item_name}: {old_qty} → {quantity} {inventory[item_name]['unit']}\")\n",
        "            else:\n",
        "                messages.append(f\"⚠ Item not found: {item_name}\")\n",
        "\n",
        "        elif action == 'query':\n",
        "            item_name = operation['item']\n",
        "\n",
        "            if item_name == 'all':\n",
        "                if inventory:\n",
        "                    msg = \"\\n\" + \"=\"*60 + \"\\nCURRENT INVENTORY\\n\" + \"=\"*60 + \"\\n\\n\"\n",
        "                    by_category = {}\n",
        "                    for name, item in inventory.items():\n",
        "                        cat = item['category']\n",
        "                        if cat not in by_category:\n",
        "                            by_category[cat] = []\n",
        "                        by_category[cat].append((name, item))\n",
        "\n",
        "                    for category in sorted(by_category.keys()):\n",
        "                        msg += f\"📦 {category.upper()}:\\n\"\n",
        "                        for name, item in sorted(by_category[category]):\n",
        "                            msg += f\"   • {name}: {item['quantity']} {item['unit']}\\n\"\n",
        "                        msg += \"\\n\"\n",
        "\n",
        "                    msg += f\"Total items: {len(inventory)}\\n\" + \"=\"*60\n",
        "                    messages.append(msg)\n",
        "                else:\n",
        "                    messages.append(\"⚠ Inventory is empty\")\n",
        "            else:\n",
        "                if item_name in inventory:\n",
        "                    item = inventory[item_name]\n",
        "                    messages.append(f\"\\n{item_name.upper()}:\\n  Quantity: {item['quantity']} {item['unit']}\\n  Category: {item['category']}\\n  Last Updated: {item['last_updated']}\")\n",
        "                else:\n",
        "                    messages.append(f\"⚠ Item not found: {item_name}\")\n",
        "\n",
        "        return accumulator\n",
        "\n",
        "    def merge_accumulators(self, accumulators):\n",
        "        merged = self.create_accumulator()\n",
        "        for acc in accumulators:\n",
        "            merged['inventory'].update(acc['inventory'])\n",
        "            merged['messages'].extend(acc['messages'])\n",
        "        return merged\n",
        "\n",
        "    def extract_output(self, accumulator):\n",
        "        return accumulator\n",
        "\n",
        "\n",
        "class FormatResults(beam.DoFn):\n",
        "    \"\"\"Format results for display\"\"\"\n",
        "    def process(self, result):\n",
        "        for message in result['messages']:\n",
        "            yield message\n",
        "\n",
        "        # Save inventory to JSON\n",
        "        with open('inventory_beam.json', 'w') as f:\n",
        "            json.dump(result['inventory'], f, indent=2)\n",
        "        yield \"\\n💾 Inventory saved to inventory_beam.json\"\n",
        "\n",
        "\n",
        "print(\"✓ Apache Beam transforms defined!\")"
      ]
    },
    {
      "cell_type": "markdown",
      "metadata": {
        "id": "a41bJtaDLiMj"
      },
      "source": [
        "## Step 5: Define Pipeline Function"
      ]
    },
    {
      "cell_type": "code",
      "execution_count": 5,
      "metadata": {
        "colab": {
          "base_uri": "https://localhost:8080/"
        },
        "id": "TDVLsDR-LiMj",
        "outputId": "3fe38b38-065a-4ae6-cde8-65fc105e6eaa"
      },
      "outputs": [
        {
          "output_type": "stream",
          "name": "stdout",
          "text": [
            "✓ Pipeline functions defined!\n"
          ]
        }
      ],
      "source": [
        "def run_inventory_pipeline(commands: List[str], verbose=True):\n",
        "    \"\"\"Run the Apache Beam inventory pipeline\"\"\"\n",
        "\n",
        "    pipeline_options = PipelineOptions()\n",
        "\n",
        "    with beam.Pipeline(options=pipeline_options) as pipeline:\n",
        "        # Create command stream\n",
        "        commands_pcoll = pipeline | 'Create Commands' >> beam.Create(commands)\n",
        "\n",
        "        # Parse commands\n",
        "        parsed = commands_pcoll | 'Parse Commands' >> beam.ParDo(ParseCommand()).with_outputs('errors', main='operations')\n",
        "\n",
        "        # Combine all operations into final inventory state\n",
        "        inventory_state = (\n",
        "            parsed.operations\n",
        "            | 'Add Dummy Key' >> beam.Map(lambda x: (1, x))\n",
        "            | 'Group By Key' >> beam.GroupByKey()\n",
        "            | 'Combine Operations' >> beam.Map(lambda x: list(x[1]))\n",
        "            | 'Process All Operations' >> beam.Map(\n",
        "                lambda ops: CombineInventory().create_accumulator()\n",
        "                if not ops else\n",
        "                CombineInventory().extract_output(\n",
        "                    [CombineInventory().add_input(\n",
        "                        CombineInventory().create_accumulator() if i == 0\n",
        "                        else acc, op\n",
        "                    ) for i, op in enumerate(ops)][len(ops)-1]\n",
        "                    if ops else CombineInventory().create_accumulator()\n",
        "                )\n",
        "            )\n",
        "        )\n",
        "\n",
        "        # Format and display results\n",
        "        results = inventory_state | 'Format Results' >> beam.ParDo(FormatResults())\n",
        "\n",
        "        # Collect results\n",
        "        if verbose:\n",
        "            results | 'Print Results' >> beam.Map(print)\n",
        "\n",
        "        # Handle errors\n",
        "        parsed.errors | 'Print Errors' >> beam.Map(lambda x: print(f\"❌ {x}\"))\n",
        "\n",
        "    print(\"\\n✓ Pipeline execution completed!\")\n",
        "\n",
        "\n",
        "# Simpler sequential processing version\n",
        "def run_inventory_pipeline_simple(commands: List[str]):\n",
        "    \"\"\"Simplified pipeline with sequential processing\"\"\"\n",
        "\n",
        "    accumulator = CombineInventory().create_accumulator()\n",
        "    errors = []\n",
        "\n",
        "    print(\"\\n🚀 Processing commands...\\n\")\n",
        "    print(\"=\"*60)\n",
        "\n",
        "    for cmd in commands:\n",
        "        # Parse command\n",
        "        parser = ParseCommand()\n",
        "        parsed_ops = list(parser.process(cmd))\n",
        "\n",
        "        for parsed in parsed_ops:\n",
        "            if isinstance(parsed, beam.pvalue.TaggedOutput):\n",
        "                errors.append(parsed.value)\n",
        "                print(f\"❌ {parsed.value}\")\n",
        "            else:\n",
        "                # Process operation\n",
        "                accumulator = CombineInventory().add_input(accumulator, parsed)\n",
        "\n",
        "    print(\"=\"*60)\n",
        "\n",
        "    # Display results\n",
        "    print(\"\\n📋 Results:\\n\")\n",
        "    for message in accumulator['messages']:\n",
        "        print(message)\n",
        "\n",
        "    # Save to file\n",
        "    with open('inventory_beam.json', 'w') as f:\n",
        "        json.dump(accumulator['inventory'], f, indent=2)\n",
        "    print(\"\\n💾 Inventory saved to inventory_beam.json\")\n",
        "\n",
        "    return accumulator['inventory']\n",
        "\n",
        "print(\"✓ Pipeline functions defined!\")"
      ]
    },
    {
      "cell_type": "markdown",
      "metadata": {
        "id": "vdYZ3K20LiMk"
      },
      "source": [
        "## Step 6: Example Usage - Basic Commands"
      ]
    },
    {
      "cell_type": "code",
      "execution_count": 6,
      "metadata": {
        "colab": {
          "base_uri": "https://localhost:8080/"
        },
        "id": "YJzKM1-GLiMk",
        "outputId": "fb8fa1c2-ec81-4771-8861-398434f21e63"
      },
      "outputs": [
        {
          "output_type": "stream",
          "name": "stdout",
          "text": [
            "📝 Running basic inventory commands...\n",
            "\n",
            "\n",
            "🚀 Processing commands...\n",
            "\n",
            "============================================================\n",
            "============================================================\n",
            "\n",
            "📋 Results:\n",
            "\n",
            "✓ Added milk: 2 liters (dairy)\n",
            "✓ Added eggs: 12 count (protein)\n",
            "✓ Added bread: 1 loaf (grains)\n",
            "✓ Added chicken: 500 grams (protein)\n",
            "\n",
            "============================================================\n",
            "CURRENT INVENTORY\n",
            "============================================================\n",
            "\n",
            "📦 DAIRY:\n",
            "   • milk: 2 liters\n",
            "\n",
            "📦 GRAINS:\n",
            "   • bread: 1 loaf\n",
            "\n",
            "📦 PROTEIN:\n",
            "   • chicken: 500 grams\n",
            "   • eggs: 12 count\n",
            "\n",
            "Total items: 4\n",
            "============================================================\n",
            "\n",
            "💾 Inventory saved to inventory_beam.json\n"
          ]
        }
      ],
      "source": [
        "# Example commands\n",
        "basic_commands = [\n",
        "    'add milk 2 liters dairy',\n",
        "    'add eggs 12 count protein',\n",
        "    'add bread 1 loaf grains',\n",
        "    'add chicken 500 grams protein',\n",
        "    'query all'\n",
        "]\n",
        "\n",
        "print(\"📝 Running basic inventory commands...\\n\")\n",
        "inventory = run_inventory_pipeline_simple(basic_commands)"
      ]
    },
    {
      "cell_type": "markdown",
      "metadata": {
        "id": "fNHA-dyrLiMk"
      },
      "source": [
        "## Step 7: Example Usage - Update and Remove Operations"
      ]
    },
    {
      "cell_type": "code",
      "execution_count": 7,
      "metadata": {
        "colab": {
          "base_uri": "https://localhost:8080/"
        },
        "id": "CQc-Qo4CLiMk",
        "outputId": "52e1e020-a939-4493-8d80-2e3320c3f3bd"
      },
      "outputs": [
        {
          "output_type": "stream",
          "name": "stdout",
          "text": [
            "📝 Running update and remove operations...\n",
            "\n",
            "\n",
            "🚀 Processing commands...\n",
            "\n",
            "============================================================\n",
            "============================================================\n",
            "\n",
            "📋 Results:\n",
            "\n",
            "✓ Added milk: 2 liters (dairy)\n",
            "✓ Added eggs: 12 count (protein)\n",
            "✓ Removed 1 from milk. Remaining: 1 liters\n",
            "✓ Updated eggs: 12 → 6 count\n",
            "✓ Added rice: 5 kg (grains)\n",
            "\n",
            "============================================================\n",
            "CURRENT INVENTORY\n",
            "============================================================\n",
            "\n",
            "📦 DAIRY:\n",
            "   • milk: 1 liters\n",
            "\n",
            "📦 GRAINS:\n",
            "   • rice: 5 kg\n",
            "\n",
            "📦 PROTEIN:\n",
            "   • eggs: 6 count\n",
            "\n",
            "Total items: 3\n",
            "============================================================\n",
            "\n",
            "💾 Inventory saved to inventory_beam.json\n"
          ]
        }
      ],
      "source": [
        "# More commands with updates and removals\n",
        "update_commands = [\n",
        "    'add milk 2 liters dairy',\n",
        "    'add eggs 12 count protein',\n",
        "    'remove milk 1',\n",
        "    'update eggs 6',\n",
        "    'add rice 5 kg grains',\n",
        "    'query all'\n",
        "]\n",
        "\n",
        "print(\"📝 Running update and remove operations...\\n\")\n",
        "inventory = run_inventory_pipeline_simple(update_commands)"
      ]
    },
    {
      "cell_type": "markdown",
      "metadata": {
        "id": "3wB-iG_DLiMk"
      },
      "source": [
        "## Step 8: Interactive Command Interface"
      ]
    },
    {
      "cell_type": "code",
      "execution_count": 8,
      "metadata": {
        "id": "RmLUh1uFLiMl"
      },
      "outputs": [],
      "source": [
        "# Interactive mode\n",
        "def interactive_inventory():\n",
        "    \"\"\"\n",
        "    Interactive inventory management\n",
        "    \"\"\"\n",
        "    print(\"\\n\" + \"=\"*60)\n",
        "    print(\"🏠 INTERACTIVE INVENTORY MANAGEMENT\")\n",
        "    print(\"=\"*60)\n",
        "    print(\"\\nAvailable commands:\")\n",
        "    print(\"  • add <item> <quantity> <unit> <category>\")\n",
        "    print(\"  • remove <item> <quantity>\")\n",
        "    print(\"  • update <item> <quantity>\")\n",
        "    print(\"  • query <item> or query all\")\n",
        "    print(\"  • done - Process all commands\")\n",
        "    print(\"\\nExamples:\")\n",
        "    print(\"  add apples 5 count fruits\")\n",
        "    print(\"  remove apples 2\")\n",
        "    print(\"  query all\")\n",
        "    print(\"=\"*60 + \"\\n\")\n",
        "\n",
        "    commands = []\n",
        "\n",
        "    while True:\n",
        "        cmd = input(\"💬 Enter command (or 'done' to process): \").strip()\n",
        "\n",
        "        if cmd.lower() == 'done':\n",
        "            if commands:\n",
        "                print(f\"\\n🔄 Processing {len(commands)} commands...\\n\")\n",
        "                run_inventory_pipeline_simple(commands)\n",
        "                commands = []\n",
        "            else:\n",
        "                print(\"⚠ No commands to process!\")\n",
        "            break\n",
        "        elif cmd:\n",
        "            commands.append(cmd)\n",
        "            print(f\"✓ Command queued ({len(commands)} total)\")\n",
        "\n",
        "# Uncomment the line below to run interactive mode\n",
        "# interactive_inventory()"
      ]
    },
    {
      "cell_type": "markdown",
      "metadata": {
        "id": "_jIqiD8ELiMl"
      },
      "source": [
        "## Step 9: View Saved Inventory"
      ]
    },
    {
      "cell_type": "code",
      "execution_count": 9,
      "metadata": {
        "colab": {
          "base_uri": "https://localhost:8080/"
        },
        "id": "M7EMp0iDLiMl",
        "outputId": "69082bbb-2d88-473d-a7f3-f92b5b5adab7"
      },
      "outputs": [
        {
          "output_type": "stream",
          "name": "stdout",
          "text": [
            "\n",
            "============================================================\n",
            "📦 CURRENT INVENTORY FROM FILE\n",
            "============================================================\n",
            "\n",
            "📦 DAIRY:\n",
            "   • milk: 1 liters\n",
            "\n",
            "📦 GRAINS:\n",
            "   • rice: 5 kg\n",
            "\n",
            "📦 PROTEIN:\n",
            "   • eggs: 6 count\n",
            "\n",
            "Total items: 3\n",
            "============================================================\n"
          ]
        }
      ],
      "source": [
        "# Load and display current inventory\n",
        "def display_inventory():\n",
        "    if os.path.exists('inventory_beam.json'):\n",
        "        with open('inventory_beam.json', 'r') as f:\n",
        "            inventory = json.load(f)\n",
        "\n",
        "        if inventory:\n",
        "            print(\"\\n\" + \"=\"*60)\n",
        "            print(\"📦 CURRENT INVENTORY FROM FILE\")\n",
        "            print(\"=\"*60 + \"\\n\")\n",
        "\n",
        "            by_category = {}\n",
        "            for name, item in inventory.items():\n",
        "                cat = item['category']\n",
        "                if cat not in by_category:\n",
        "                    by_category[cat] = []\n",
        "                by_category[cat].append((name, item))\n",
        "\n",
        "            for category in sorted(by_category.keys()):\n",
        "                print(f\"📦 {category.upper()}:\")\n",
        "                for name, item in sorted(by_category[category]):\n",
        "                    print(f\"   • {name}: {item['quantity']} {item['unit']}\")\n",
        "                print()\n",
        "\n",
        "            print(f\"Total items: {len(inventory)}\")\n",
        "            print(\"=\"*60)\n",
        "        else:\n",
        "            print(\"⚠ Inventory is empty\")\n",
        "    else:\n",
        "        print(\"⚠ No inventory file found. Run some commands first!\")\n",
        "\n",
        "display_inventory()"
      ]
    },
    {
      "cell_type": "markdown",
      "metadata": {
        "id": "eLoI1Zg1LiMl"
      },
      "source": [
        "## Step 10: Custom Commands - Your Turn!"
      ]
    },
    {
      "cell_type": "code",
      "execution_count": 10,
      "metadata": {
        "colab": {
          "base_uri": "https://localhost:8080/"
        },
        "id": "iG8VIhSKLiMl",
        "outputId": "21519669-43e5-4017-fab6-947717d9856f"
      },
      "outputs": [
        {
          "output_type": "stream",
          "name": "stdout",
          "text": [
            "📝 Running your custom commands...\n",
            "\n",
            "\n",
            "🚀 Processing commands...\n",
            "\n",
            "============================================================\n",
            "============================================================\n",
            "\n",
            "📋 Results:\n",
            "\n",
            "✓ Added tomatoes: 4 count (vegetables)\n",
            "✓ Added cheese: 250 grams (dairy)\n",
            "✓ Added pasta: 500 grams (grains)\n",
            "\n",
            "============================================================\n",
            "CURRENT INVENTORY\n",
            "============================================================\n",
            "\n",
            "📦 DAIRY:\n",
            "   • cheese: 250 grams\n",
            "\n",
            "📦 GRAINS:\n",
            "   • pasta: 500 grams\n",
            "\n",
            "📦 VEGETABLES:\n",
            "   • tomatoes: 4 count\n",
            "\n",
            "Total items: 3\n",
            "============================================================\n",
            "\n",
            "💾 Inventory saved to inventory_beam.json\n"
          ]
        }
      ],
      "source": [
        "# Add your custom commands here\n",
        "my_commands = [\n",
        "    'add tomatoes 4 count vegetables',\n",
        "    'add cheese 250 grams dairy',\n",
        "    'add pasta 500 grams grains',\n",
        "    'query all'\n",
        "]\n",
        "\n",
        "print(\"📝 Running your custom commands...\\n\")\n",
        "inventory = run_inventory_pipeline_simple(my_commands)"
      ]
    }
  ],
  "metadata": {
    "kernelspec": {
      "display_name": "Python 3",
      "language": "python",
      "name": "python3"
    },
    "language_info": {
      "codemirror_mode": {
        "name": "ipython",
        "version": 3
      },
      "file_extension": ".py",
      "mimetype": "text/x-python",
      "name": "python",
      "nbconvert_exporter": "python",
      "pygments_lexer": "ipython3",
      "version": "3.8.0"
    },
    "colab": {
      "provenance": [],
      "include_colab_link": true
    }
  },
  "nbformat": 4,
  "nbformat_minor": 0
}